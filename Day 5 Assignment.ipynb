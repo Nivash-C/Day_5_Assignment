{
 "cells": [
  {
   "cell_type": "code",
   "execution_count": 2,
   "id": "fecbae12",
   "metadata": {},
   "outputs": [],
   "source": [
    "import numpy as np\n",
    "import pandas as pd\n",
    "from numpy import linalg as la"
   ]
  },
  {
   "cell_type": "markdown",
   "id": "7793d6b2",
   "metadata": {},
   "source": [
    "1. Create 5 matrices with five different dimensions (1-D,2-D,...5-D)\n"
   ]
  },
  {
   "cell_type": "code",
   "execution_count": 3,
   "id": "c65ad319",
   "metadata": {},
   "outputs": [
    {
     "name": "stdout",
     "output_type": "stream",
     "text": [
      "[[1 2]]\n",
      "[[1 2]\n",
      " [3 4]]\n",
      "[[1 2 3]\n",
      " [4 5 6]\n",
      " [7 8 9]]\n",
      "[list([1, 2, 3, 4]) list([5, 6, 2, 7]) list([5, 56, 636, 1])\n",
      " list([64, 6, 32, 76, 12])]\n",
      "[[  1   2   3   5]\n",
      " [ 56   6   3   2]\n",
      " [  3  56 786  23]\n",
      " [ 86 342 123  75]\n",
      " [ 45  23  87  56]]\n"
     ]
    },
    {
     "name": "stderr",
     "output_type": "stream",
     "text": [
      "<ipython-input-3-23ea29a4fd19>:4: VisibleDeprecationWarning: Creating an ndarray from ragged nested sequences (which is a list-or-tuple of lists-or-tuples-or ndarrays with different lengths or shapes) is deprecated. If you meant to do this, you must specify 'dtype=object' when creating the ndarray.\n",
      "  d=np.array([[1,2,3,4],[5,6,2,7],[5,56,636,1],[64,6,32,76,12]])\n"
     ]
    }
   ],
   "source": [
    "a=np.array([[1,2]])\n",
    "b=np.array([[1,2],[3,4]])\n",
    "c=np.array([[1,2,3],[4,5,6],[7,8,9]])\n",
    "d=np.array([[1,2,3,4],[5,6,2,7],[5,56,636,1],[64,6,32,76,12]])\n",
    "e=np.array([[1,2,3,5],[56,6,3,2],[3,56,786,23],[86,342,123,75],[45,23,87,56]])\n",
    "print(a)\n",
    "print(b)\n",
    "print(c)\n",
    "print(d)\n",
    "print(e)"
   ]
  },
  {
   "cell_type": "markdown",
   "id": "a7dd07d2",
   "metadata": {},
   "source": [
    "2. Find determinants of 5 matrices and display your output"
   ]
  },
  {
   "cell_type": "code",
   "execution_count": 3,
   "id": "3b98dd5a",
   "metadata": {},
   "outputs": [
    {
     "name": "stdout",
     "output_type": "stream",
     "text": [
      "-2.0000000000000004\n",
      "-9.51619735392994e-16\n",
      "3721.000000000001\n",
      "117427.99999999981\n",
      "31336.999999999975\n"
     ]
    }
   ],
   "source": [
    "a=np.array([[1,2],[3,4]])\n",
    "b=np.array([[1,2,3],[4,5,6],[7,8,9]])\n",
    "c=np.array([[65,34],[76,97]])\n",
    "d=np.array([[54,76,98],[32,13,65],[65,78,53]])\n",
    "e=np.array([[565,788],[351,545]])\n",
    "print(la.det(a))\n",
    "print(la.det(b))\n",
    "print(la.det(c))\n",
    "print(la.det(d))\n",
    "print(la.det(e))"
   ]
  },
  {
   "cell_type": "markdown",
   "id": "c1f8bb27",
   "metadata": {},
   "source": [
    "3. Find inverse of the above 5 matrices and display your output"
   ]
  },
  {
   "cell_type": "code",
   "execution_count": 5,
   "id": "0a46dc60",
   "metadata": {},
   "outputs": [
    {
     "name": "stdout",
     "output_type": "stream",
     "text": [
      "1st Array: [[-2.   1. ]\n",
      " [ 1.5 -0.5]]\n",
      "2nd Array: [[ 3.15251974e+15 -6.30503948e+15  3.15251974e+15]\n",
      " [-6.30503948e+15  1.26100790e+16 -6.30503948e+15]\n",
      " [ 3.15251974e+15 -6.30503948e+15  3.15251974e+15]]\n",
      "3rd Array: [[ 0.02606826 -0.00913733]\n",
      " [-0.02042462  0.01746842]]\n",
      "4th Array: [[-0.03730797  0.03079334  0.03121913]\n",
      " [ 0.0215366  -0.02987362 -0.00318493]\n",
      " [ 0.01405968  0.00619954 -0.01473243]]\n",
      "5th Array: [[ 0.01739158 -0.02514599]\n",
      " [-0.01120082  0.01802981]]\n"
     ]
    }
   ],
   "source": [
    "print(\"1st Array:\",la.inv(a))\n",
    "print(\"2nd Array:\",la.inv(b))\n",
    "print(\"3rd Array:\",la.inv(c))\n",
    "print(\"4th Array:\",la.inv(d))\n",
    "print(\"5th Array:\",la.inv(e))\n"
   ]
  },
  {
   "cell_type": "markdown",
   "id": "0ff0dfa0",
   "metadata": {},
   "source": [
    "4. Find the rank, diagonal and trace of the 5 matrices"
   ]
  },
  {
   "cell_type": "code",
   "execution_count": 12,
   "id": "124ac7ee",
   "metadata": {},
   "outputs": [
    {
     "name": "stdout",
     "output_type": "stream",
     "text": [
      "A:\n",
      "2\n",
      "[1 4]\n",
      "5\n",
      "B:\n",
      "2\n",
      "[1 5 9]\n",
      "15\n",
      "C:\n",
      "2\n",
      "[65 97]\n",
      "162\n",
      "D:\n",
      "3\n",
      "[54 13 53]\n",
      "120\n",
      "E:\n",
      "2\n",
      "[565 545]\n",
      "1110\n"
     ]
    }
   ],
   "source": [
    "print(\"A:\")\n",
    "print(la.matrix_rank(a))\n",
    "print(np.diag(a))\n",
    "print(np.trace(a))\n",
    "print(\"B:\")\n",
    "print(la.matrix_rank(b))\n",
    "print(np.diag(b))\n",
    "print(np.trace(b))\n",
    "print(\"C:\")\n",
    "print(la.matrix_rank(c))\n",
    "print(np.diag(c))\n",
    "print(np.trace(c))\n",
    "print(\"D:\")\n",
    "print(la.matrix_rank(d))\n",
    "print(np.diag(d))\n",
    "print(np.trace(d))\n",
    "print(\"E:\")\n",
    "print(la.matrix_rank(e))\n",
    "print(np.diag(e))\n",
    "print(np.trace(e))"
   ]
  },
  {
   "cell_type": "markdown",
   "id": "4243bc05",
   "metadata": {},
   "source": [
    "5. Find Eigen value and eigen vector for 5 matrices"
   ]
  },
  {
   "cell_type": "code",
   "execution_count": 17,
   "id": "265fa732",
   "metadata": {},
   "outputs": [
    {
     "name": "stdout",
     "output_type": "stream",
     "text": [
      "A:\n",
      "[-0.37228132  5.37228132]\n",
      "(array([-0.37228132,  5.37228132]), array([[-0.82456484, -0.41597356],\n",
      "       [ 0.56576746, -0.90937671]]))\n",
      "B:\n",
      "[ 1.61168440e+01 -1.11684397e+00 -3.38433605e-16]\n",
      "(array([ 1.61168440e+01, -1.11684397e+00, -3.38433605e-16]), array([[-0.23197069, -0.78583024,  0.40824829],\n",
      "       [-0.52532209, -0.08675134, -0.81649658],\n",
      "       [-0.8186735 ,  0.61232756,  0.40824829]]))\n",
      "C:\n",
      "[ 27.70834962 134.29165038]\n",
      "(array([ 27.70834962, 134.29165038]), array([[-0.67374076, -0.44050717],\n",
      "       [ 0.73896779, -0.89774909]]))\n",
      "D:\n",
      "[ 27.70834962 134.29165038]\n",
      "(array([ 27.70834962, 134.29165038]), array([[-0.67374076, -0.44050717],\n",
      "       [ 0.73896779, -0.89774909]]))\n",
      "E:\n",
      "[1081.01140672   28.98859328]\n",
      "(array([1081.01140672,   28.98859328]), array([[ 0.83658981, -0.82684286],\n",
      "       [ 0.5478298 ,  0.562433  ]]))\n"
     ]
    }
   ],
   "source": [
    "print(\"A:\")\n",
    "print(la.eigvals(a))\n",
    "print(la.eig(a))\n",
    "print(\"B:\")\n",
    "print(la.eigvals(b))\n",
    "print(la.eig(b))\n",
    "print(\"C:\")\n",
    "print(la.eigvals(c))\n",
    "print(la.eig(c))\n",
    "print(\"D:\")\n",
    "print(la.eigvals(c))\n",
    "print(la.eig(c))\n",
    "print(\"E:\")\n",
    "print(la.eigvals(e))\n",
    "print(la.eig(e))"
   ]
  },
  {
   "cell_type": "code",
   "execution_count": null,
   "id": "859a367a",
   "metadata": {},
   "outputs": [],
   "source": []
  }
 ],
 "metadata": {
  "kernelspec": {
   "display_name": "Python 3",
   "language": "python",
   "name": "python3"
  },
  "language_info": {
   "codemirror_mode": {
    "name": "ipython",
    "version": 3
   },
   "file_extension": ".py",
   "mimetype": "text/x-python",
   "name": "python",
   "nbconvert_exporter": "python",
   "pygments_lexer": "ipython3",
   "version": "3.8.8"
  }
 },
 "nbformat": 4,
 "nbformat_minor": 5
}
